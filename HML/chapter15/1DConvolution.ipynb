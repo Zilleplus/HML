{
  "nbformat": 4,
  "nbformat_minor": 0,
  "metadata": {
    "colab": {
      "name": "1DConvolution.ipynb",
      "provenance": [],
      "collapsed_sections": [],
      "authorship_tag": "ABX9TyNcZ7r3ePucUDkgeFL1oVtz",
      "include_colab_link": true
    },
    "kernelspec": {
      "name": "python3",
      "display_name": "Python 3"
    },
    "language_info": {
      "name": "python"
    }
  },
  "cells": [
    {
      "cell_type": "markdown",
      "metadata": {
        "id": "view-in-github",
        "colab_type": "text"
      },
      "source": [
        "<a href=\"https://colab.research.google.com/github/Zilleplus/MachineLearning/blob/feature%2Fadd-HML-chap15-notebooks/HML/chapter15/1DConvolution.ipynb\" target=\"_parent\"><img src=\"https://colab.research.google.com/assets/colab-badge.svg\" alt=\"Open In Colab\"/></a>"
      ]
    },
    {
      "cell_type": "code",
      "execution_count": 2,
      "metadata": {
        "colab": {
          "base_uri": "https://localhost:8080/"
        },
        "id": "sJ-0EjqYxwjg",
        "outputId": "1f53a85f-4022-4798-9210-b8c03f557f53"
      },
      "outputs": [
        {
          "output_type": "stream",
          "name": "stdout",
          "text": [
            "using tensorflow version: 2.7.0\n"
          ]
        }
      ],
      "source": [
        "import numpy as np\n",
        "import tensorflow as tf\n",
        "import tensorflow.keras as keras\n",
        "import matplotlib.pyplot as plt\n",
        "print(\"using tensorflow version: \" + tf.__version__)\n",
        "\n",
        "def generate_time_series(batch_size, n_steps):\n",
        "    freq1, freq2, offset1, offset2, = np.random.rand(4, batch_size, 1)\n",
        "    time = np.linspace(0, 1, n_steps)\n",
        "    series = 0.5 * np.sin((time - offset1) * (freq1 * 10 + 10))\n",
        "    series += 0.2 * np.sin((time - offset2) * (freq2 * 20 + 20))\n",
        "    series += 0.1 * (np.random.rand(batch_size, n_steps) - 0.5)\n",
        "    return series[..., np.newaxis].astype(np.float32)\n",
        "\n",
        "\n",
        "n_steps = 50\n",
        "n_samples = 10000\n",
        "series = generate_time_series(batch_size=n_samples, n_steps=n_steps + 1)\n",
        "x_train, y_train = series[:7000, :n_steps], series[:7000, -1]\n",
        "x_valid, y_valid = series[7000:9000, :n_steps], series[7000:9000, -1]\n",
        "x_test, y_test = series[9000:, :n_steps], series[9000:, -1]"
      ]
    },
    {
      "cell_type": "code",
      "source": [
        "def last_time_step_mse(Y_true, Y_pred):\n",
        "    return keras.metrics.mean_squared_error(Y_true[:, -1], Y_pred[:, -1])\n",
        "\n",
        "model = keras.models.Sequential([ \n",
        "  keras.layers.Conv1D(filters=20, kernel_size=4, strides=2, padding=\"valid\"),\n",
        "  keras.layers.GRU(20, return_sequences=True),\n",
        "  keras.layers.GRU(20, return_sequences=True),\n",
        "  keras.layers.TimeDistributed(keras.layers.Dense(1))\n",
        "  ])\n",
        "optimizer = keras.optimizers.Adam(learning_rate=1e-3)\n",
        "model.compile(loss=\"mse\", optimizer=optimizer, metrics=[last_time_step_mse])\n",
        "# The book predicts 10 values, I simplified the example and only predict 1 value.\n",
        "history = model.fit(x_train, y_train, epochs=20, validation_data=(x_valid, y_valid))"
      ],
      "metadata": {
        "colab": {
          "base_uri": "https://localhost:8080/"
        },
        "id": "DcV-x2cFxzyB",
        "outputId": "ddcc9796-24cf-4003-c58a-04657e39935e"
      },
      "execution_count": 14,
      "outputs": [
        {
          "output_type": "stream",
          "name": "stdout",
          "text": [
            "Epoch 1/20\n",
            "219/219 [==============================] - 11s 28ms/step - loss: 0.1442 - last_time_step_mse: 0.1422 - val_loss: 0.1383 - val_last_time_step_mse: 0.1353\n",
            "Epoch 2/20\n",
            "219/219 [==============================] - 5s 24ms/step - loss: 0.1405 - last_time_step_mse: 0.1388 - val_loss: 0.1358 - val_last_time_step_mse: 0.1348\n",
            "Epoch 3/20\n",
            "219/219 [==============================] - 7s 31ms/step - loss: 0.1400 - last_time_step_mse: 0.1382 - val_loss: 0.1370 - val_last_time_step_mse: 0.1344\n",
            "Epoch 4/20\n",
            "219/219 [==============================] - 6s 27ms/step - loss: 0.1400 - last_time_step_mse: 0.1378 - val_loss: 0.1356 - val_last_time_step_mse: 0.1324\n",
            "Epoch 5/20\n",
            "219/219 [==============================] - 5s 24ms/step - loss: 0.1392 - last_time_step_mse: 0.1370 - val_loss: 0.1359 - val_last_time_step_mse: 0.1373\n",
            "Epoch 6/20\n",
            "219/219 [==============================] - 5s 25ms/step - loss: 0.1396 - last_time_step_mse: 0.1368 - val_loss: 0.1353 - val_last_time_step_mse: 0.1334\n",
            "Epoch 7/20\n",
            "219/219 [==============================] - 6s 26ms/step - loss: 0.1393 - last_time_step_mse: 0.1367 - val_loss: 0.1354 - val_last_time_step_mse: 0.1309\n",
            "Epoch 8/20\n",
            "219/219 [==============================] - 5s 24ms/step - loss: 0.1393 - last_time_step_mse: 0.1367 - val_loss: 0.1363 - val_last_time_step_mse: 0.1304\n",
            "Epoch 9/20\n",
            "219/219 [==============================] - 5s 24ms/step - loss: 0.1391 - last_time_step_mse: 0.1363 - val_loss: 0.1356 - val_last_time_step_mse: 0.1294\n",
            "Epoch 10/20\n",
            "219/219 [==============================] - 5s 24ms/step - loss: 0.1391 - last_time_step_mse: 0.1367 - val_loss: 0.1351 - val_last_time_step_mse: 0.1319\n",
            "Epoch 11/20\n",
            "219/219 [==============================] - 5s 24ms/step - loss: 0.1386 - last_time_step_mse: 0.1358 - val_loss: 0.1346 - val_last_time_step_mse: 0.1303\n",
            "Epoch 12/20\n",
            "219/219 [==============================] - 5s 24ms/step - loss: 0.1380 - last_time_step_mse: 0.1356 - val_loss: 0.1341 - val_last_time_step_mse: 0.1286\n",
            "Epoch 13/20\n",
            "219/219 [==============================] - 5s 24ms/step - loss: 0.1361 - last_time_step_mse: 0.1319 - val_loss: 0.1295 - val_last_time_step_mse: 0.1245\n",
            "Epoch 14/20\n",
            "219/219 [==============================] - 5s 24ms/step - loss: 0.1316 - last_time_step_mse: 0.1213 - val_loss: 0.1280 - val_last_time_step_mse: 0.1117\n",
            "Epoch 15/20\n",
            "219/219 [==============================] - 5s 24ms/step - loss: 0.1257 - last_time_step_mse: 0.1145 - val_loss: 0.1145 - val_last_time_step_mse: 0.0949\n",
            "Epoch 16/20\n",
            "219/219 [==============================] - 6s 27ms/step - loss: 0.1014 - last_time_step_mse: 0.0643 - val_loss: 0.0892 - val_last_time_step_mse: 0.0507\n",
            "Epoch 17/20\n",
            "219/219 [==============================] - 5s 24ms/step - loss: 0.0892 - last_time_step_mse: 0.0448 - val_loss: 0.0845 - val_last_time_step_mse: 0.0441\n",
            "Epoch 18/20\n",
            "219/219 [==============================] - 5s 23ms/step - loss: 0.0851 - last_time_step_mse: 0.0428 - val_loss: 0.0853 - val_last_time_step_mse: 0.0381\n",
            "Epoch 19/20\n",
            "219/219 [==============================] - 5s 24ms/step - loss: 0.0823 - last_time_step_mse: 0.0410 - val_loss: 0.0807 - val_last_time_step_mse: 0.0448\n",
            "Epoch 20/20\n",
            "219/219 [==============================] - 5s 25ms/step - loss: 0.0802 - last_time_step_mse: 0.0398 - val_loss: 0.0819 - val_last_time_step_mse: 0.0414\n"
          ]
        }
      ]
    },
    {
      "cell_type": "code",
      "source": [
        "y_train.shape"
      ],
      "metadata": {
        "colab": {
          "base_uri": "https://localhost:8080/"
        },
        "id": "kMyu0Nxeymv3",
        "outputId": "d9651efc-894a-4954-8c9f-a8eab1c4d3b1"
      },
      "execution_count": 9,
      "outputs": [
        {
          "output_type": "execute_result",
          "data": {
            "text/plain": [
              "(7000, 1)"
            ]
          },
          "metadata": {},
          "execution_count": 9
        }
      ]
    },
    {
      "cell_type": "code",
      "source": [
        "x_train.shape"
      ],
      "metadata": {
        "colab": {
          "base_uri": "https://localhost:8080/"
        },
        "id": "MUoKY7qezpqy",
        "outputId": "4f342e4c-bb1b-403d-e60e-91efd3eb5d65"
      },
      "execution_count": 15,
      "outputs": [
        {
          "output_type": "execute_result",
          "data": {
            "text/plain": [
              "(7000, 50, 1)"
            ]
          },
          "metadata": {},
          "execution_count": 15
        }
      ]
    },
    {
      "cell_type": "code",
      "source": [
        ""
      ],
      "metadata": {
        "id": "jxqCrALN0iQT"
      },
      "execution_count": null,
      "outputs": []
    }
  ]
}