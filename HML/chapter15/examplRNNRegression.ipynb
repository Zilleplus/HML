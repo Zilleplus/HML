{
  "nbformat": 4,
  "nbformat_minor": 0,
  "metadata": {
    "colab": {
      "name": "Untitled0.ipynb",
      "provenance": [],
      "toc_visible": true,
      "authorship_tag": "ABX9TyO53i/b6FkBNhEo533HkXwJ",
      "include_colab_link": true
    },
    "kernelspec": {
      "name": "python3",
      "display_name": "Python 3"
    },
    "language_info": {
      "name": "python"
    }
  },
  "cells": [
    {
      "cell_type": "markdown",
      "metadata": {
        "id": "view-in-github",
        "colab_type": "text"
      },
      "source": [
        "<a href=\"https://colab.research.google.com/github/Zilleplus/MachineLearning/blob/feature%2Fadd-HML-chap15-notebooks/HML/chapter15/examplRNNRegression.ipynb\" target=\"_parent\"><img src=\"https://colab.research.google.com/assets/colab-badge.svg\" alt=\"Open In Colab\"/></a>"
      ]
    },
    {
      "cell_type": "code",
      "execution_count": null,
      "metadata": {
        "colab": {
          "base_uri": "https://localhost:8080/"
        },
        "id": "YJxCNEBs3-cq",
        "outputId": "b5a46a78-2d9e-40c5-e511-e6930b0c7f64"
      },
      "outputs": [
        {
          "output_type": "stream",
          "name": "stdout",
          "text": [
            "using tensorflow version: 2.7.0\n"
          ]
        }
      ],
      "source": [
        "import numpy as np\n",
        "import tensorflow as tf\n",
        "import tensorflow.keras as keras\n",
        "import matplotlib.pyplot as plt\n",
        "print(\"using tensorflow version: \" + tf.__version__)\n",
        "\n",
        "\n",
        "def generate_time_series(batch_size, n_steps):\n",
        "    freq1, freq2, offset1, offset2, = np.random.rand(4, batch_size, 1)\n",
        "    time = np.linspace(0, 1, n_steps)\n",
        "    series = 0.5 * np.sin((time - offset1) * (freq1 * 10 + 10))\n",
        "    series += 0.2 * np.sin((time - offset2) * (freq2 * 20 + 20))\n",
        "    series += 0.1 * (np.random.rand(batch_size, n_steps) - 0.5)\n",
        "    return series[..., np.newaxis].astype(np.float32)\n",
        "\n",
        "\n",
        "n_steps = 50\n",
        "n_samples = 10000\n",
        "series = generate_time_series(batch_size=n_samples, n_steps=n_steps + 1)\n",
        "x_train, y_train = series[:7000, :n_steps], series[:7000, -1]\n",
        "x_valid, y_valid = series[7000:9000, :n_steps], series[7000:9000, -1]\n",
        "x_test, y_test = series[9000:, :n_steps], series[9000:, -1]"
      ]
    },
    {
      "cell_type": "code",
      "source": [
        "# Every sample is a serie of 50 values (x) with 1 prediction (y) at the end.\n",
        "plt.plot(x_train[0])\n",
        "plt.show()"
      ],
      "metadata": {
        "id": "9C8aD5Nd4YE_"
      },
      "execution_count": null,
      "outputs": []
    },
    {
      "cell_type": "code",
      "source": [
        "def compile_and_fit(model, learning_rate=1e-3, epochs=20):\n",
        "    optimizer = keras.optimizers.Adam(learning_rate=learning_rate)\n",
        "    model.compile(loss=\"mse\",\n",
        "                  optimizer=optimizer, metrics=[\"mse\"])\n",
        "    model.fit(x_train, y_train, epochs=epochs)\n",
        "    [loss, accuracy] = model.test_on_batch(x=x_test, y=y_test)\n",
        "    print(\"loss=\" + str(loss) + \" accuracy=\" + str(accuracy))\n",
        "    return (loss, accuracy)"
      ],
      "metadata": {
        "id": "AF9x0ZRJ4a1C"
      },
      "execution_count": null,
      "outputs": []
    },
    {
      "cell_type": "code",
      "source": [
        "# Native forcasting with linear regression model.\n",
        "model_linear_regression = keras.models.Sequential([\n",
        "    keras.layers.Flatten(input_shape=[50, 1]),\n",
        "    keras.layers.Dense(1)\n",
        "])\n",
        "linear_loss, linear_accuracy = compile_and_fit(model_linear_regression)"
      ],
      "metadata": {
        "colab": {
          "base_uri": "https://localhost:8080/"
        },
        "id": "m0EhC465_sq-",
        "outputId": "13447966-d199-48b7-fb4d-679b65af79a7"
      },
      "execution_count": 13,
      "outputs": [
        {
          "output_type": "stream",
          "name": "stdout",
          "text": [
            "Epoch 1/20\n",
            "219/219 [==============================] - 1s 4ms/step - loss: 0.2006 - mse: 0.2006\n",
            "Epoch 2/20\n",
            "219/219 [==============================] - 0s 1ms/step - loss: 0.0610 - mse: 0.0610\n",
            "Epoch 3/20\n",
            "219/219 [==============================] - 0s 1ms/step - loss: 0.0296 - mse: 0.0296\n",
            "Epoch 4/20\n",
            "219/219 [==============================] - 0s 1ms/step - loss: 0.0194 - mse: 0.0194\n",
            "Epoch 5/20\n",
            "219/219 [==============================] - 0s 1ms/step - loss: 0.0153 - mse: 0.0153\n",
            "Epoch 6/20\n",
            "219/219 [==============================] - 0s 1ms/step - loss: 0.0131 - mse: 0.0131\n",
            "Epoch 7/20\n",
            "219/219 [==============================] - 0s 1ms/step - loss: 0.0115 - mse: 0.0115\n",
            "Epoch 8/20\n",
            "219/219 [==============================] - 0s 1ms/step - loss: 0.0102 - mse: 0.0102\n",
            "Epoch 9/20\n",
            "219/219 [==============================] - 0s 1ms/step - loss: 0.0090 - mse: 0.0090\n",
            "Epoch 10/20\n",
            "219/219 [==============================] - 0s 1ms/step - loss: 0.0081 - mse: 0.0081\n",
            "Epoch 11/20\n",
            "219/219 [==============================] - 0s 1ms/step - loss: 0.0072 - mse: 0.0072\n",
            "Epoch 12/20\n",
            "219/219 [==============================] - 0s 1ms/step - loss: 0.0065 - mse: 0.0065\n",
            "Epoch 13/20\n",
            "219/219 [==============================] - 0s 1ms/step - loss: 0.0059 - mse: 0.0059\n",
            "Epoch 14/20\n",
            "219/219 [==============================] - 0s 1ms/step - loss: 0.0054 - mse: 0.0054\n",
            "Epoch 15/20\n",
            "219/219 [==============================] - 0s 1ms/step - loss: 0.0051 - mse: 0.0051\n",
            "Epoch 16/20\n",
            "219/219 [==============================] - 0s 1ms/step - loss: 0.0048 - mse: 0.0048\n",
            "Epoch 17/20\n",
            "219/219 [==============================] - 0s 1ms/step - loss: 0.0046 - mse: 0.0046\n",
            "Epoch 18/20\n",
            "219/219 [==============================] - 0s 1ms/step - loss: 0.0044 - mse: 0.0044\n",
            "Epoch 19/20\n",
            "219/219 [==============================] - 0s 1ms/step - loss: 0.0042 - mse: 0.0042\n",
            "Epoch 20/20\n",
            "219/219 [==============================] - 0s 1ms/step - loss: 0.0041 - mse: 0.0041\n",
            "loss=0.004063206259161234 accuracy=0.004063206259161234\n"
          ]
        }
      ]
    },
    {
      "cell_type": "code",
      "source": [
        "f_x = np.expand_dims(x_test[0], axis=0)  # batch of 1 dimension\n",
        "f_y = y_test[0]\n",
        "f_pred = model_linear_regression.predict(f_x)\n",
        "print((f_pred - f_y)*(f_pred - f_y))"
      ],
      "metadata": {
        "colab": {
          "base_uri": "https://localhost:8080/"
        },
        "id": "TPT19qP4_w36",
        "outputId": "6a489b81-b5f3-4486-e084-fa2ba88834db"
      },
      "execution_count": 14,
      "outputs": [
        {
          "output_type": "stream",
          "name": "stdout",
          "text": [
            "[[0.01215654]]\n"
          ]
        }
      ]
    },
    {
      "cell_type": "code",
      "source": [
        "model_single_rnn = keras.models.Sequential([\n",
        "    keras.layers.SimpleRNN(1, input_shape=[None, 1]),\n",
        "])\n",
        "single_rnn_loss, single_rnn_accuracy = compile_and_fit(model_single_rnn)\n",
        "# single rnn weights:\n",
        "# single_rnn_layer = model_single_rnn.layers[0]\n",
        "# single_rnn_layer.weights[0] => input matrix W_x\n",
        "# single_rnn_layer.weights[1] => recurrent_matrix W_y\n",
        "# single_rnn_layer.weights[2] => bias matrix"
      ],
      "metadata": {
        "colab": {
          "base_uri": "https://localhost:8080/"
        },
        "id": "Yfr3-bN7_0UM",
        "outputId": "1e4dbfbe-2fc4-479d-91b1-8b1e43223ad5"
      },
      "execution_count": 15,
      "outputs": [
        {
          "output_type": "stream",
          "name": "stdout",
          "text": [
            "Epoch 1/20\n",
            "219/219 [==============================] - 3s 8ms/step - loss: 0.2288 - mse: 0.2288\n",
            "Epoch 2/20\n",
            "219/219 [==============================] - 2s 7ms/step - loss: 0.1644 - mse: 0.1644\n",
            "Epoch 3/20\n",
            "219/219 [==============================] - 2s 8ms/step - loss: 0.1425 - mse: 0.1425\n",
            "Epoch 4/20\n",
            "219/219 [==============================] - 2s 7ms/step - loss: 0.1389 - mse: 0.1389\n",
            "Epoch 5/20\n",
            "219/219 [==============================] - 2s 7ms/step - loss: 0.1393 - mse: 0.1393\n",
            "Epoch 6/20\n",
            "219/219 [==============================] - 2s 7ms/step - loss: 0.1392 - mse: 0.1392\n",
            "Epoch 7/20\n",
            "219/219 [==============================] - 2s 7ms/step - loss: 0.1391 - mse: 0.1391\n",
            "Epoch 8/20\n",
            "219/219 [==============================] - 2s 7ms/step - loss: 0.1391 - mse: 0.1391\n",
            "Epoch 9/20\n",
            "219/219 [==============================] - 2s 7ms/step - loss: 0.1387 - mse: 0.1387\n",
            "Epoch 10/20\n",
            "219/219 [==============================] - 2s 7ms/step - loss: 0.1406 - mse: 0.1406\n",
            "Epoch 11/20\n",
            "219/219 [==============================] - 2s 7ms/step - loss: 0.1390 - mse: 0.1390\n",
            "Epoch 12/20\n",
            "219/219 [==============================] - 2s 7ms/step - loss: 0.1390 - mse: 0.1390\n",
            "Epoch 13/20\n",
            "219/219 [==============================] - 2s 7ms/step - loss: 0.1393 - mse: 0.1393\n",
            "Epoch 14/20\n",
            "219/219 [==============================] - 2s 7ms/step - loss: 0.1391 - mse: 0.1391\n",
            "Epoch 15/20\n",
            "219/219 [==============================] - 2s 7ms/step - loss: 0.1394 - mse: 0.1394\n",
            "Epoch 16/20\n",
            "219/219 [==============================] - 1s 7ms/step - loss: 0.1388 - mse: 0.1388\n",
            "Epoch 17/20\n",
            "219/219 [==============================] - 2s 7ms/step - loss: 0.1398 - mse: 0.1398\n",
            "Epoch 18/20\n",
            "219/219 [==============================] - 2s 7ms/step - loss: 0.1392 - mse: 0.1392\n",
            "Epoch 19/20\n",
            "219/219 [==============================] - 1s 7ms/step - loss: 0.1393 - mse: 0.1393\n",
            "Epoch 20/20\n",
            "219/219 [==============================] - 2s 8ms/step - loss: 0.1398 - mse: 0.1398\n",
            "loss=0.14053797721862793 accuracy=0.14053797721862793\n"
          ]
        }
      ]
    },
    {
      "cell_type": "code",
      "source": [
        "model_rnn = keras.models.Sequential([\n",
        "    keras.layers.SimpleRNN(20, return_sequences=True, input_shape=[None, 1]),\n",
        "    keras.layers.SimpleRNN(20, return_sequences=True, input_shape=[None, 1]),\n",
        "    keras.layers.Dense(1),\n",
        "])\n",
        "rnn_loss, rnn_accuracy = compile_and_fit(model_rnn, learning_rate=1e-3, epochs=20)"
      ],
      "metadata": {
        "colab": {
          "base_uri": "https://localhost:8080/"
        },
        "id": "NhFMMI3n4giH",
        "outputId": "b9de373e-abaa-480c-acd7-d344ffbcabf0"
      },
      "execution_count": 17,
      "outputs": [
        {
          "output_type": "stream",
          "name": "stdout",
          "text": [
            "Epoch 1/20\n",
            "219/219 [==============================] - 5s 18ms/step - loss: 0.1471 - mse: 0.1471\n",
            "Epoch 2/20\n",
            "219/219 [==============================] - 4s 19ms/step - loss: 0.1234 - mse: 0.1234\n",
            "Epoch 3/20\n",
            "219/219 [==============================] - 4s 18ms/step - loss: 0.1118 - mse: 0.1118\n",
            "Epoch 4/20\n",
            "219/219 [==============================] - 4s 18ms/step - loss: 0.1070 - mse: 0.1070\n",
            "Epoch 5/20\n",
            "219/219 [==============================] - 4s 17ms/step - loss: 0.1051 - mse: 0.1051\n",
            "Epoch 6/20\n",
            "219/219 [==============================] - 4s 18ms/step - loss: 0.1035 - mse: 0.1035\n",
            "Epoch 7/20\n",
            "219/219 [==============================] - 4s 18ms/step - loss: 0.1016 - mse: 0.1016\n",
            "Epoch 8/20\n",
            "219/219 [==============================] - 4s 18ms/step - loss: 0.0990 - mse: 0.0990\n",
            "Epoch 9/20\n",
            "219/219 [==============================] - 4s 18ms/step - loss: 0.0975 - mse: 0.0975\n",
            "Epoch 10/20\n",
            "219/219 [==============================] - 4s 18ms/step - loss: 0.0948 - mse: 0.0948\n",
            "Epoch 11/20\n",
            "219/219 [==============================] - 4s 18ms/step - loss: 0.0924 - mse: 0.0924\n",
            "Epoch 12/20\n",
            "219/219 [==============================] - 4s 19ms/step - loss: 0.0896 - mse: 0.0896\n",
            "Epoch 13/20\n",
            "219/219 [==============================] - 4s 18ms/step - loss: 0.0887 - mse: 0.0887\n",
            "Epoch 14/20\n",
            "219/219 [==============================] - 4s 18ms/step - loss: 0.0872 - mse: 0.0872\n",
            "Epoch 15/20\n",
            "219/219 [==============================] - 4s 18ms/step - loss: 0.0862 - mse: 0.0862\n",
            "Epoch 16/20\n",
            "219/219 [==============================] - 4s 18ms/step - loss: 0.0848 - mse: 0.0848\n",
            "Epoch 17/20\n",
            "219/219 [==============================] - 4s 18ms/step - loss: 0.0846 - mse: 0.0846\n",
            "Epoch 18/20\n",
            "219/219 [==============================] - 4s 18ms/step - loss: 0.0829 - mse: 0.0829\n",
            "Epoch 19/20\n",
            "219/219 [==============================] - 4s 19ms/step - loss: 0.0827 - mse: 0.0827\n",
            "Epoch 20/20\n",
            "219/219 [==============================] - 4s 18ms/step - loss: 0.0811 - mse: 0.0811\n",
            "loss=0.07912818342447281 accuracy=0.07912818342447281\n"
          ]
        }
      ]
    }
  ]
}