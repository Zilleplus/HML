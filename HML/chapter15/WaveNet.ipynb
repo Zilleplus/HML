{
  "nbformat": 4,
  "nbformat_minor": 0,
  "metadata": {
    "colab": {
      "name": "WaveNet.ipynb",
      "provenance": [],
      "collapsed_sections": [],
      "authorship_tag": "ABX9TyMkuIRb6S1ZgmhOKyLsGv9d",
      "include_colab_link": true
    },
    "kernelspec": {
      "name": "python3",
      "display_name": "Python 3"
    },
    "language_info": {
      "name": "python"
    }
  },
  "cells": [
    {
      "cell_type": "markdown",
      "metadata": {
        "id": "view-in-github",
        "colab_type": "text"
      },
      "source": [
        "<a href=\"https://colab.research.google.com/github/Zilleplus/MachineLearning/blob/feature%2Fadd-HML-chap15-notebooks/HML/chapter15/WaveNet.ipynb\" target=\"_parent\"><img src=\"https://colab.research.google.com/assets/colab-badge.svg\" alt=\"Open In Colab\"/></a>"
      ]
    },
    {
      "cell_type": "code",
      "execution_count": 5,
      "metadata": {
        "colab": {
          "base_uri": "https://localhost:8080/"
        },
        "id": "9DNhVYXB2j0Z",
        "outputId": "e8df9a88-6ebf-47f3-e822-5d4f084db0e9"
      },
      "outputs": [
        {
          "output_type": "stream",
          "name": "stdout",
          "text": [
            "using tensorflow version: 2.7.0\n"
          ]
        }
      ],
      "source": [
        "import numpy as np\n",
        "import tensorflow as tf\n",
        "import tensorflow.keras as keras\n",
        "import matplotlib.pyplot as plt\n",
        "print(\"using tensorflow version: \" + tf.__version__)\n",
        "\n",
        "def generate_time_series(batch_size, n_steps):\n",
        "    freq1, freq2, offset1, offset2, = np.random.rand(4, batch_size, 1)\n",
        "    time = np.linspace(0, 1, n_steps)\n",
        "    series = 0.5 * np.sin((time - offset1) * (freq1 * 10 + 10))\n",
        "    series += 0.2 * np.sin((time - offset2) * (freq2 * 20 + 20))\n",
        "    series += 0.1 * (np.random.rand(batch_size, n_steps) - 0.5)\n",
        "    return series[..., np.newaxis].astype(np.float32)\n",
        "\n",
        "\n",
        "n_steps = 100\n",
        "n_samples = 10000\n",
        "series = generate_time_series(batch_size=n_samples, n_steps=n_steps + 1)\n",
        "x_train, y_train = series[:7000, :n_steps], series[:7000, -1]\n",
        "x_valid, y_valid = series[7000:9000, :n_steps], series[7000:9000, -1]\n",
        "x_test, y_test = series[9000:, :n_steps], series[9000:, -1]"
      ]
    },
    {
      "cell_type": "code",
      "source": [
        "x_train.shape"
      ],
      "metadata": {
        "colab": {
          "base_uri": "https://localhost:8080/"
        },
        "id": "IzddLBbZP5Nx",
        "outputId": "9fbf46dd-8007-4ef4-c723-1421b3bbbf0c"
      },
      "execution_count": 21,
      "outputs": [
        {
          "output_type": "execute_result",
          "data": {
            "text/plain": [
              "(7000, 100, 1)"
            ]
          },
          "metadata": {},
          "execution_count": 21
        }
      ]
    },
    {
      "cell_type": "code",
      "source": [
        "y_train.shape"
      ],
      "metadata": {
        "colab": {
          "base_uri": "https://localhost:8080/"
        },
        "id": "1QGSDxwIP7qA",
        "outputId": "7005d932-099d-4787-de2e-0b9d0d340983"
      },
      "execution_count": 23,
      "outputs": [
        {
          "output_type": "execute_result",
          "data": {
            "text/plain": [
              "(7000, 1)"
            ]
          },
          "metadata": {},
          "execution_count": 23
        }
      ]
    },
    {
      "cell_type": "code",
      "source": [
        "def last_time_step_mse(Y_true, Y_pred):\n",
        "    return keras.metrics.mean_squared_error(Y_true[:, -1], Y_pred[:, -1])\n",
        "\n",
        "model = keras.models.Sequential()\n",
        "model.add(keras.layers.InputLayer(input_shape=[None, 1]))\n",
        "\n",
        "for rate in (1, 2, 4, 8)*2:\n",
        "  model.add(keras.layers.Conv1D(filters=20,kernel_size=2,padding=\"causal\", activation=\"relu\", dilation_rate=rate))\n",
        "\n",
        "model.add(keras.layers.Conv1D(filters=1, kernel_size=1)) # filters=1 as we only predict 1 value,  in the book we do 10, so filters=10\n",
        "optimizer = keras.optimizers.Adam(learning_rate=1e-3)\n",
        "model.compile(loss=\"mse\", optimizer=optimizer, metrics=last_time_step_mse)"
      ],
      "metadata": {
        "id": "2l4QCxY72xzJ"
      },
      "execution_count": 46,
      "outputs": []
    },
    {
      "cell_type": "code",
      "source": [
        "history = model.fit(x_train, y_train, epochs=20, validation_data=(x_valid, y_valid))"
      ],
      "metadata": {
        "colab": {
          "base_uri": "https://localhost:8080/"
        },
        "id": "dz6NgXV5E0NB",
        "outputId": "450c60bf-94b8-4f5b-da76-c41380e991b9"
      },
      "execution_count": 47,
      "outputs": [
        {
          "output_type": "stream",
          "name": "stdout",
          "text": [
            "Epoch 1/20\n",
            "219/219 [==============================] - 14s 50ms/step - loss: 0.1438 - last_time_step_mse: 0.1422 - val_loss: 0.1396 - val_last_time_step_mse: 0.1398\n",
            "Epoch 2/20\n",
            "219/219 [==============================] - 7s 30ms/step - loss: 0.1432 - last_time_step_mse: 0.1419 - val_loss: 0.1392 - val_last_time_step_mse: 0.1389\n",
            "Epoch 3/20\n",
            "219/219 [==============================] - 6s 28ms/step - loss: 0.1429 - last_time_step_mse: 0.1412 - val_loss: 0.1388 - val_last_time_step_mse: 0.1364\n",
            "Epoch 4/20\n",
            "219/219 [==============================] - 6s 28ms/step - loss: 0.1423 - last_time_step_mse: 0.1404 - val_loss: 0.1388 - val_last_time_step_mse: 0.1354\n",
            "Epoch 5/20\n",
            "219/219 [==============================] - 6s 28ms/step - loss: 0.1421 - last_time_step_mse: 0.1403 - val_loss: 0.1383 - val_last_time_step_mse: 0.1378\n",
            "Epoch 6/20\n",
            "219/219 [==============================] - 6s 28ms/step - loss: 0.1421 - last_time_step_mse: 0.1400 - val_loss: 0.1382 - val_last_time_step_mse: 0.1351\n",
            "Epoch 7/20\n",
            "219/219 [==============================] - 6s 28ms/step - loss: 0.1421 - last_time_step_mse: 0.1401 - val_loss: 0.1382 - val_last_time_step_mse: 0.1379\n",
            "Epoch 8/20\n",
            "219/219 [==============================] - 6s 29ms/step - loss: 0.1420 - last_time_step_mse: 0.1402 - val_loss: 0.1383 - val_last_time_step_mse: 0.1364\n",
            "Epoch 9/20\n",
            "219/219 [==============================] - 6s 27ms/step - loss: 0.1419 - last_time_step_mse: 0.1399 - val_loss: 0.1382 - val_last_time_step_mse: 0.1372\n",
            "Epoch 10/20\n",
            "219/219 [==============================] - 6s 28ms/step - loss: 0.1418 - last_time_step_mse: 0.1401 - val_loss: 0.1381 - val_last_time_step_mse: 0.1362\n",
            "Epoch 11/20\n",
            "219/219 [==============================] - 6s 29ms/step - loss: 0.1417 - last_time_step_mse: 0.1400 - val_loss: 0.1385 - val_last_time_step_mse: 0.1355\n",
            "Epoch 12/20\n",
            "219/219 [==============================] - 6s 29ms/step - loss: 0.1418 - last_time_step_mse: 0.1406 - val_loss: 0.1383 - val_last_time_step_mse: 0.1374\n",
            "Epoch 13/20\n",
            "219/219 [==============================] - 6s 28ms/step - loss: 0.1418 - last_time_step_mse: 0.1403 - val_loss: 0.1389 - val_last_time_step_mse: 0.1361\n",
            "Epoch 14/20\n",
            "219/219 [==============================] - 6s 29ms/step - loss: 0.1417 - last_time_step_mse: 0.1399 - val_loss: 0.1380 - val_last_time_step_mse: 0.1354\n",
            "Epoch 15/20\n",
            "219/219 [==============================] - 6s 28ms/step - loss: 0.1417 - last_time_step_mse: 0.1401 - val_loss: 0.1381 - val_last_time_step_mse: 0.1373\n",
            "Epoch 16/20\n",
            "219/219 [==============================] - 6s 27ms/step - loss: 0.1416 - last_time_step_mse: 0.1401 - val_loss: 0.1379 - val_last_time_step_mse: 0.1350\n",
            "Epoch 17/20\n",
            "219/219 [==============================] - 6s 28ms/step - loss: 0.1416 - last_time_step_mse: 0.1399 - val_loss: 0.1386 - val_last_time_step_mse: 0.1367\n",
            "Epoch 18/20\n",
            "219/219 [==============================] - 6s 27ms/step - loss: 0.1416 - last_time_step_mse: 0.1399 - val_loss: 0.1380 - val_last_time_step_mse: 0.1364\n",
            "Epoch 19/20\n",
            "219/219 [==============================] - 6s 28ms/step - loss: 0.1416 - last_time_step_mse: 0.1401 - val_loss: 0.1379 - val_last_time_step_mse: 0.1353\n",
            "Epoch 20/20\n",
            "219/219 [==============================] - 6s 27ms/step - loss: 0.1416 - last_time_step_mse: 0.1403 - val_loss: 0.1379 - val_last_time_step_mse: 0.1357\n"
          ]
        }
      ]
    },
    {
      "cell_type": "code",
      "source": [
        "print(x_valid.shape)\n",
        "print(y_valid.shape)"
      ],
      "metadata": {
        "colab": {
          "base_uri": "https://localhost:8080/"
        },
        "id": "42eQRZhzPRZj",
        "outputId": "2dca904d-1919-4360-d14f-a44e1df48c40"
      },
      "execution_count": 28,
      "outputs": [
        {
          "output_type": "stream",
          "name": "stdout",
          "text": [
            "(2000, 100, 1)\n",
            "(2000, 1)\n"
          ]
        }
      ]
    }
  ]
}