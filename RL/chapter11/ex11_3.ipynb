{
 "cells": [
  {
   "cell_type": "code",
   "execution_count": 102,
   "id": "8fdee56e-910f-484a-a063-8a50edc3ea95",
   "metadata": {},
   "outputs": [],
   "source": [
    "import numpy as np\n",
    "from random import random, randint, choice"
   ]
  },
  {
   "cell_type": "code",
   "execution_count": 103,
   "id": "1352bb82-4b2b-4eaf-a938-9c0538ee4664",
   "metadata": {},
   "outputs": [],
   "source": [
    "def V(s, w):\n",
    "    if s == 6:\n",
    "        return (w[s] + 2*w[7])\n",
    "    return (2*w[s] + w[7])"
   ]
  },
  {
   "cell_type": "code",
   "execution_count": 104,
   "id": "5131a4a8-9bec-47f1-8f2e-c059d5a41288",
   "metadata": {},
   "outputs": [],
   "source": [
    "def nabla_V(s, w = []):\n",
    "    if s < 0 or s > 6:\n",
    "        return None\n",
    "    grad = np.zeros(8)\n",
    "    if s == 6:\n",
    "        grad[s] = 1\n",
    "        grad[7] = 2\n",
    "    else:\n",
    "        grad[s] = 2\n",
    "        grad[7] = 1\n",
    "        \n",
    "    return grad"
   ]
  },
  {
   "cell_type": "code",
   "execution_count": 105,
   "id": "02c20a6e-2941-4aa9-984e-f24d581af09a",
   "metadata": {},
   "outputs": [],
   "source": [
    "# The transition reward is zero, this\n",
    "# makes converting the value_state function\n",
    "# into the value_action function trivial.\n",
    "def Q(s, s_next, w, gamma=0.99):\n",
    "    # a=action -> is the next_state\n",
    "    # R + V(s_next)\n",
    "    return 0 + gamma*V(s_next,w)\n",
    "\n",
    "def nabla_Q(s, s_next, w, gamma=0.99):\n",
    "    return gamma*nabla_V(s_next, w)"
   ]
  },
  {
   "cell_type": "code",
   "execution_count": 113,
   "id": "2eca2a6f-c1d6-4765-9904-5b0d8bcfc25e",
   "metadata": {},
   "outputs": [
    {
     "name": "stdout",
     "output_type": "stream",
     "text": [
      "Q(s, a)=2.9699999999999998\n",
      "nabla_Q(s, a)= \n",
      "[0.   0.   1.98 0.   0.   0.   0.   0.99]\n"
     ]
    }
   ],
   "source": [
    "print(\"Q(s, a)=\" + str(Q(0,1,np.ones((8)))))\n",
    "print(\"nabla_Q(s, a)= \\n\"+ str(nabla_Q(1,2,np.ones((8)))))"
   ]
  },
  {
   "cell_type": "code",
   "execution_count": 116,
   "id": "09352ab8-6c1e-4b8b-879f-760f48283382",
   "metadata": {},
   "outputs": [],
   "source": [
    "def b_dist(s):\n",
    "    # if in one of the 6 upper states:\n",
    "    #    6/7 chance it goes to one of the 6 other states\n",
    "    #    1/7 change it goes to the lower state 7\n",
    "    # if in the lower state\n",
    "    dist = np.ones(7)\n",
    "    return dist*(1.0/7.0)\n",
    "\n",
    "# we assume that the solid lines are valid transitions\n",
    "def b_eval(s):   \n",
    "    return np.random.choice(range(7), p=b_dist(s))"
   ]
  },
  {
   "cell_type": "code",
   "execution_count": 120,
   "id": "a53a3398-65d1-4eae-b3d7-6efbfe53ce90",
   "metadata": {},
   "outputs": [
    {
     "name": "stdout",
     "output_type": "stream",
     "text": [
      "b_dist(0)[0]=0.14285714285714285\n",
      "b_eval(s)=4\n"
     ]
    }
   ],
   "source": [
    "print(\"b_dist(0)[0]=\" + str(b_dist(0)[0]))\n",
    "print(\"b_eval(s)=\" + str(b_eval(0)))"
   ]
  },
  {
   "cell_type": "code",
   "execution_count": 174,
   "id": "568afb7e-88cc-48a1-a576-e27873aa7cfc",
   "metadata": {},
   "outputs": [],
   "source": [
    "def pi_dist(s):\n",
    "    dist = np.zeros(7)\n",
    "    dist[6] = 1\n",
    "    return dist\n",
    "\n",
    "def pi_eval(s):\n",
    "    return np.random.choice(range(7), p=pi_dist(s))"
   ]
  },
  {
   "cell_type": "code",
   "execution_count": 184,
   "id": "f5a8c6f8-4c49-4af8-b214-48e3d573fe16",
   "metadata": {},
   "outputs": [],
   "source": [
    "def pi_dist_epsilon(s):\n",
    "    epsilon = 1e7\n",
    "    dist = np.ones(7)\n",
    "    dist = dist*epsilon\n",
    "    dist[6] = 1 - 6*epsilon\n",
    "    return dist\n",
    "\n",
    "def pi_epsilon_eval(s):\n",
    "    return np.random.choice(range(7), p=pi_dist_epsilon(s))"
   ]
  },
  {
   "cell_type": "code",
   "execution_count": 186,
   "id": "d6532090-78d3-4909-ba0d-c1f72190672d",
   "metadata": {},
   "outputs": [
    {
     "name": "stdout",
     "output_type": "stream",
     "text": [
      "287009523.5446869\n",
      "984543120127792.6\n",
      "2.7086158590849803e+23\n",
      "9.291500378438898e+29\n",
      "6.374617806335476e+35\n",
      "1.7275090013868097e+44\n",
      "4.6815087797592254e+52\n",
      "1.2686778777572658e+61\n",
      "3.4380872219125723e+69\n",
      "1.1793842510391878e+76\n",
      "[ 5.48367447e-01  9.87079203e-01  1.13473999e+61 -1.05487304e+76\n",
      "  5.41194515e-01  1.54513102e+44  2.32901398e-01 -5.27436518e+75]\n"
     ]
    }
   ],
   "source": [
    "w = np.random.rand(8)\n",
    "s = 1\n",
    "alpha = 1\n",
    "gamma = 0.99\n",
    "\n",
    "R = 0 # no transition cost\n",
    "for i in range(10):\n",
    "    a = b_eval(s)\n",
    "    \n",
    "    p_a_target_policy = pi_dist_epsilon(s)[a]\n",
    "    p_a_behavior_policy = b_dist(s)[a]\n",
    "    rho = p_a_target_policy/p_a_behavior_policy\n",
    "    # If b is not epsilon but greedy, then rho is zero unless\n",
    "    # the behavior_policy pickes the same action. \n",
    "    # Which makes this equivalent to a wastefull on-policy algorithm.\n",
    "    \n",
    "    s_next = a # the action a represents the next state\n",
    "    Q_max_costs = np.array([Q(s_next, a_, w) for a_ in range(7)])\n",
    "    a_max = np.argmax(Q_max_costs)\n",
    "    \n",
    "    TD = R + gamma* Q_max_costs[a_max] - Q(s, a, w)\n",
    "    w_old = w\n",
    "    w = w + alpha*rho*TD*nabla_Q(s, a, w, gamma)\n",
    "    \n",
    "    print(np.linalg.norm(w_old-w))\n",
    "    \n",
    "print(w)"
   ]
  }
 ],
 "metadata": {
  "kernelspec": {
   "display_name": "Python 3",
   "language": "python",
   "name": "python3"
  },
  "language_info": {
   "codemirror_mode": {
    "name": "ipython",
    "version": 3
   },
   "file_extension": ".py",
   "mimetype": "text/x-python",
   "name": "python",
   "nbconvert_exporter": "python",
   "pygments_lexer": "ipython3",
   "version": "3.8.2"
  }
 },
 "nbformat": 4,
 "nbformat_minor": 5
}
