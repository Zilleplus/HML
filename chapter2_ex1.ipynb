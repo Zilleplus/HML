{
 "cells": [
  {
   "cell_type": "code",
   "execution_count": 1,
   "id": "2875f808-defc-4914-9f0a-a66f072f1ea0",
   "metadata": {},
   "outputs": [],
   "source": [
    "# Python ≥3.5 is required\n",
    "import sys\n",
    "assert sys.version_info >= (3, 5)\n",
    "\n",
    "# Scikit-Learn ≥0.20 is required\n",
    "import sklearn\n",
    "assert sklearn.__version__ >= \"0.20\"\n",
    "\n",
    "# Common imports\n",
    "import numpy as np\n",
    "import os\n",
    "\n",
    "import pandas as pd\n",
    "\n",
    "# To plot pretty figures\n",
    "%matplotlib inline\n",
    "import matplotlib as mpl\n",
    "import matplotlib.pyplot as plt\n",
    "mpl.rc('axes', labelsize=14)\n",
    "mpl.rc('xtick', labelsize=12)\n",
    "mpl.rc('ytick', labelsize=12)"
   ]
  },
  {
   "cell_type": "code",
   "execution_count": 2,
   "id": "c9179a57-86c4-44ed-bf81-4cf0034d4a7a",
   "metadata": {},
   "outputs": [],
   "source": [
    "housing_data = pd.read_csv(\"./datasets/housing/housing.csv\")"
   ]
  },
  {
   "cell_type": "code",
   "execution_count": 21,
   "id": "756a974e-e2b2-4af2-8a6c-e9ec41845c50",
   "metadata": {},
   "outputs": [],
   "source": [
    "housing_data[\"income_cat\"] = pd.cut(housing_data[\"median_income\"],\n",
    "                               bins=[0., 1.5, 3.0, 4.5, 6., np.inf],\n",
    "                               labels=[1, 2, 3, 4, 5])\n",
    "\n",
    "from sklearn.model_selection import StratifiedShuffleSplit\n",
    "split = StratifiedShuffleSplit(n_splits=1, test_size=0.2, random_state=42)\n",
    "\n",
    "for train_index, test_index in split.split(housing_data, housing_data[\"income_cat\"]):\n",
    "    strat_train_set = housing_data.loc[train_index]\n",
    "    strat_test_set = housing_data.loc[test_index]\n",
    "    \n",
    "housing = strat_train_set.drop(\"median_house_value\", axis=1).copy()\n",
    "housing_labels = strat_train_set[\"median_house_value\"].copy()\n",
    "\n",
    "housing_test = strat_test_set.drop(\"median_house_value\", axis=1).copy()\n",
    "housing_test_labels = strat_test_set[\"median_house_value\"].copy()"
   ]
  },
  {
   "cell_type": "code",
   "execution_count": 4,
   "id": "cb780498-7c9e-43e0-ad0a-a0e433080405",
   "metadata": {},
   "outputs": [],
   "source": [
    "# numpy.c_ = <numpy.lib.index_tricks.CClass object>\n",
    "#     from docs: Translates slice objects to concatenation along the second axis.\n",
    "# np.c_[np.array([1,2,3]), np.array([4,5,6])]\n",
    "# array([[1, 4],\n",
    "#       [2, 5],\n",
    "#       [3, 6]])\n",
    "\n",
    "from sklearn.base import BaseEstimator, TransformerMixin\n",
    "\n",
    "rooms_ix, bedrooms_ix, population_ix, households_ix = 3, 4, 5, 6\n",
    "\n",
    "class CombinedAttributesAdder(BaseEstimator, TransformerMixin):\n",
    "    def __init__(self, add_bedrooms_per_room=True): # no *args or **kargs\n",
    "        self.add_bedrooms_per_room = add_bedrooms_per_room\n",
    "    def fit(self, X, y=None):\n",
    "        return self  # nothing else to do\n",
    "    def transform(self, X):\n",
    "        rooms_per_household = X[:, rooms_ix] / X[:, households_ix]\n",
    "        population_per_household = X[:, population_ix] / X[:, households_ix]\n",
    "        if self.add_bedrooms_per_room:\n",
    "            bedrooms_per_room = X[:, bedrooms_ix] / X[:, rooms_ix]\n",
    "            return np.c_[X, rooms_per_household, population_per_household,\n",
    "                         bedrooms_per_room]\n",
    "        else:\n",
    "            return np.c_[X, rooms_per_household, population_per_household]"
   ]
  },
  {
   "cell_type": "code",
   "execution_count": 5,
   "id": "8b8ae86b-4f17-4849-aab8-8723e1ce702c",
   "metadata": {},
   "outputs": [],
   "source": [
    "from sklearn.pipeline import Pipeline\n",
    "from sklearn.preprocessing import StandardScaler\n",
    "from sklearn.impute import SimpleImputer\n",
    "\n",
    "num_pipeline = Pipeline([\n",
    "        ('imputer', SimpleImputer(strategy=\"median\")),\n",
    "        ('attribs_adder', CombinedAttributesAdder()),\n",
    "        ('std_scaler', StandardScaler()),\n",
    "    ])\n",
    "\n",
    "# Remove the text attribute\n",
    "housing_num = housing.drop(\"ocean_proximity\", axis=1)\n",
    "\n",
    "housing_num_tr = num_pipeline.fit_transform(housing_num)"
   ]
  },
  {
   "cell_type": "code",
   "execution_count": 6,
   "id": "e13b1cd5-212d-4e18-b9a2-26fb8739487f",
   "metadata": {},
   "outputs": [],
   "source": [
    "from sklearn.preprocessing import OneHotEncoder\n",
    "from sklearn.compose import ColumnTransformer\n",
    "\n",
    "num_attribs = list(housing_num) # ignore ocean_proximity\n",
    "cat_attribs = [\"ocean_proximity\"]\n",
    "\n",
    "full_pipeline = ColumnTransformer([\n",
    "        (\"num\", num_pipeline, num_attribs), # do the numbers stuff\n",
    "        (\"cat\", OneHotEncoder(), cat_attribs), # convert the text to one hot encoding\n",
    "    ])\n",
    "\n",
    "\n",
    "housing_prepared = full_pipeline.fit_transform(housing)"
   ]
  },
  {
   "cell_type": "markdown",
   "id": "02a85d90-1d83-4f70-a694-20c1393effe0",
   "metadata": {},
   "source": [
    "Excercise 1 mentions that:\n",
    "kernel = \"linear\" or kernel=\"rbf\" with various C and gamma\n",
    "\n",
    "from docs (https://scikit-learn.org/stable/modules/generated/sklearn.svm.SVR.html):\n",
    "sklearn.svm.SVR(*, kernel='rbf', degree=3, gamma='scale', coef0=0.0, tol=0.001, C=1.0, epsilon=0.1, shrinking=True, cache_size=200, verbose=False, max_iter=- 1)"
   ]
  },
  {
   "cell_type": "code",
   "execution_count": 26,
   "id": "fd2ea9c9-fa43-4045-887e-8265f7b128aa",
   "metadata": {},
   "outputs": [],
   "source": [
    "# fit without cross validating\n",
    "from sklearn.svm import SVR\n",
    "SVM = SVR(C=1.0, kernel='rbf')\n",
    "\n",
    "SVM.fit(housing_prepared, housing_labels)"
   ]
  },
  {
   "cell_type": "code",
   "execution_count": 8,
   "id": "8e3c0a15-4af4-416c-b2b4-9be4bf3eddb4",
   "metadata": {},
   "outputs": [],
   "source": [
    "housing_test_prepared = full_pipeline.fit_transform(housing_test)\n",
    "test_predicted_labels = SVM.predict(housing_test_prepared)"
   ]
  },
  {
   "cell_type": "code",
   "execution_count": 25,
   "id": "dd249288-e17e-4cac-89e1-08d4d59c927a",
   "metadata": {},
   "outputs": [
    {
     "data": {
      "text/plain": [
       "16512"
      ]
     },
     "execution_count": 25,
     "metadata": {},
     "output_type": "execute_result"
    }
   ],
   "source": [
    "len(housing_test_prepared)"
   ]
  },
  {
   "cell_type": "code",
   "execution_count": 23,
   "id": "97bd7724-b772-475a-8b8a-571964773020",
   "metadata": {},
   "outputs": [
    {
     "data": {
      "text/plain": [
       "16512"
      ]
     },
     "execution_count": 23,
     "metadata": {},
     "output_type": "execute_result"
    }
   ],
   "source": [
    "len(test_predicted_labels)"
   ]
  },
  {
   "cell_type": "code",
   "execution_count": 57,
   "id": "7705ef1c-4105-46be-9f12-f46dc9d01c6d",
   "metadata": {},
   "outputs": [
    {
     "data": {
      "text/plain": [
       "-0.04668996097547229"
      ]
     },
     "execution_count": 57,
     "metadata": {},
     "output_type": "execute_result"
    }
   ],
   "source": [
    "len()"
   ]
  },
  {
   "cell_type": "code",
   "execution_count": 65,
   "id": "7cd98938-6b7b-4fa7-8146-0e671b8ba5fd",
   "metadata": {},
   "outputs": [],
   "source": [
    "# we can also put the whole thing in 1 pipeline...\n",
    "\n",
    "sp = ColumnTransformer([\n",
    "        (\"num\", num_pipeline, num_attribs), # do the numbers stuff\n",
    "        (\"cat\", OneHotEncoder(), cat_attribs), # convert the text to one hot encoding\n",
    "    ])\n",
    "\n",
    "est = Pipeline([(\"pre\",sp),(\"svm\", SVR(C=1.0, kernel='linear'))]).fit(housing, housing_labels)"
   ]
  }
 ],
 "metadata": {
  "kernelspec": {
   "display_name": "Python 3",
   "language": "python",
   "name": "python3"
  },
  "language_info": {
   "codemirror_mode": {
    "name": "ipython",
    "version": 3
   },
   "file_extension": ".py",
   "mimetype": "text/x-python",
   "name": "python",
   "nbconvert_exporter": "python",
   "pygments_lexer": "ipython3",
   "version": "3.8.10"
  }
 },
 "nbformat": 4,
 "nbformat_minor": 5
}
